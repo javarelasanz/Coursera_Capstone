{
 "cells": [
  {
   "cell_type": "markdown",
   "metadata": {},
   "source": [
    "# Capstone Project - Clustering neighbourhoods in Madrid, Spain (Week 1)\n",
    "### Applied Data Science Capstone by IBM/Coursera"
   ]
  },
  {
   "cell_type": "markdown",
   "metadata": {},
   "source": [
    "## Table of contents\n",
    "* [Introduction: Business Problem](#introduction)\n",
    "* [Data](#data)"
   ]
  },
  {
   "cell_type": "markdown",
   "metadata": {},
   "source": [
    "## Introduction: Business Problem <a name=\"introduction\"></a>"
   ]
  },
  {
   "cell_type": "markdown",
   "metadata": {},
   "source": [
    "The objective of the project is to **characterize the city districts and/or the individual neighbourhoods of Madrid, Spain**, so that we can **recommend anyone the best place to live** depending on their preferences related to 'venues inside a 500 meters reach':\n",
    "* **Neighbourhoods with lots of venues** around, specially for entertainment will be suitable for young couples\n",
    "* **Neighbourhoods with lots of parks** will be preferrable for families with children, people who enjoys sports or nature\n",
    "* **Neighbourhoods with museums, landscaping venues**, etc. would apply for different people\n",
    "* **Neighbourhoods with no venues at all** would be more residential, for people who prefers to live apart\n",
    "* etc.\n",
    "\n",
    "The **intended audience** is anyone who wants to live in Madrid, Spain, and doesn't know where to start looking for a house. Having a first characterization of each neighbourhood will help them make their choice.\n",
    "\n",
    "Madrid is a big city that welcomes everyone. It has every infrastructure you may need: health, education, arts, sports... **We will use the power of data science to go a step further** and help explain Madrid's neighbourhoods based on different clustering criteria that lets you chose, and come to see."
   ]
  },
  {
   "cell_type": "markdown",
   "metadata": {},
   "source": [
    "## Data <a name=\"data\"></a>"
   ]
  },
  {
   "cell_type": "markdown",
   "metadata": {},
   "source": [
    "Based on the definition of the problem, we will be using mainly the following sources:\n",
    "* **Wikipedia**: for a full list of districts and neighbourhoods in the city of Madrid, Spain. Here we can also take: 'population' and 'density of population' by district.<br>\n",
    "https://es.wikipedia.org/wiki/Anexo:Distritos_de_Madrid<br>\n",
    "https://es.wikipedia.org/wiki/Anexo:Barrios_administrativos_de_Madrid\n",
    "* **FourSquare API**: to take the number and type of venues in each neighbourhood of Madrid\n",
    "* **Google Maps API**: to find the approximate center of each district and neighbourhood\n",
    "\n",
    "\n",
    "Additional information, if needed, could be taken from other:\n",
    "* The city council 'data bank': https://datos.madrid.es/\n",
    "* or from the National Statistic Institute of Spain (https://www.ine.es/)\n",
    "\n"
   ]
  },
  {
   "cell_type": "markdown",
   "metadata": {},
   "source": [
    "<br><br>\n",
    "## Thank you for reviewing!"
   ]
  }
 ],
 "metadata": {
  "kernelspec": {
   "display_name": "Python",
   "language": "python",
   "name": "conda-env-python-py"
  },
  "language_info": {
   "codemirror_mode": {
    "name": "ipython",
    "version": 3
   },
   "file_extension": ".py",
   "mimetype": "text/x-python",
   "name": "python",
   "nbconvert_exporter": "python",
   "pygments_lexer": "ipython3",
   "version": "3.6.10"
  }
 },
 "nbformat": 4,
 "nbformat_minor": 4
}
