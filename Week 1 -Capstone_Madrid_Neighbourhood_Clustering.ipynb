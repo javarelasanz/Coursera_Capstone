{
 "cells": [
  {
   "cell_type": "markdown",
   "metadata": {},
   "source": [
    "# Capstone Project - Clustering neighbourhoods in Madrid, Spain (Week 1)\n",
    "### Applied Data Science Capstone by IBM/Coursera"
   ]
  },
  {
   "cell_type": "markdown",
   "metadata": {},
   "source": [
    "## Table of contents\n",
    "* [Introduction: Business Problem](#introduction)\n",
    "* [Data](#data)"
   ]
  },
  {
   "cell_type": "markdown",
   "metadata": {},
   "source": [
    "## Introduction: Business Problem <a name=\"introduction\"></a>"
   ]
  },
  {
   "cell_type": "markdown",
   "metadata": {},
   "source": [
    "The objective of the project is to **characterize the city districts and/or the individual neighbourhoods of Madrid, Spain**, so that we can **recommend anyone the best place to live** depending on their preferences related to 'venues inside a 500 meters reach':\n",
    "* **Neighbourhoods with lots of venues** around, specially for entertainment will be suitable for young couples\n",
    "* **Neighbourhoods with lots of parks** will be preferrable for families with children, people who enjoys sports or nature\n",
    "* **Neighbourhoods with museums, landscaping venues**, etc. would apply for different people\n",
    "* **Neighbourhoods with no venues at all** would be more residential, for people who prefers to live apart\n",
    "* etc.\n",
    "\n",
    "The **intended audience** is anyone who wants to live in Madrid, Spain, and doesn't know where to start looking for a house. Having a first characterization of each neighbourhood will help them make their choice.\n",
    "\n",
    "Madrid is a big city that welcomes everyone. It has every infrastructure you may need: health, education, arts, sports... **We will use the power of data science to go a step further** and help explain Madrid's neighbourhoods based on different clustering criteria that lets you chose, and come to see."
   ]
  },
  {
   "cell_type": "markdown",
   "metadata": {},
   "source": [
    "## Data <a name=\"data\"></a>"
   ]
  },
  {
   "cell_type": "markdown",
   "metadata": {},
   "source": [
    "Based on the definition of the problem, we will be using mainly the following sources:\n",
    "* **Wikipedia**: for a full list of districts and neighbourhoods in the city of Madrid, Spain. <br>\n",
    "    District information comes with: 'District name', 'Total surface (Km2)', 'population', 'density of population', 'image' and 'list of neighbourhoods'.<br>https://es.wikipedia.org/wiki/Anexo:Distritos_de_Madrid\n",
    "\n",
    "\n",
    "\n",
    "<table class=\"Districts\">\n",
    "      <tr>  <th align=\"center\">Number</th><th align=\"center\">Name</th><th align=\"center\">Surface (Ha)</th><th align=\"center\">Population</th><th align=\"center\">Density of Population (Pop/Ha)</th><th align=\"center\">Image</th><th align=\"center\">List of Neighbourhoods</th>  </TR>\n",
    "      <tr>  <td align=\"center\">1</td><td align=\"center\">Center</td><td align=\"center\">522,82</td><td align=\"center\">131 928</td><td align=\"center\">252,34</td><td align=\"center\"><img src=\"Madrid-Centro.png\" ![](Madrid-Centro.png)></td><td align=\"center\">Palacio (11)<br>Embajadores (12)<BR>Cortes(13)<BR>Justicia(14)<BR>Universidad(15)<BR>Sol(16)</td>  </TR>\n",
    "      <tr>  <td align=\"center\">2</td><td align=\"center\">Arganzuela</td><td align=\"center\">646,22</td><td align=\"center\">151 965</td><td align=\"center\">235,16</td><td align=\"center\"><img src=\"Madrid-Arganzuela.png\" ![](Madrid-Arganzuela.png)>\n",
    "          </td><td align=\"center\">Imperial (21)<br>Acacias (22)<BR>Chopera(23)<BR>Justicia(14)<BR>Universidad(15)<BR>Sol(16)</td>  </TR>\n",
    "    </table>\n",
    "                    \n",
    "* **FourSquare API**: to take the number and type of venues in each neighbourhood of Madrid... **Coffee Shops, Pharmacies, Home Service, etc.** Each venue comes with locatization, name of venue and lots of tips (even client remarks)\n",
    "* **Google Maps API**: to find the approximate center of each district and neighbourhood. For example: the coordinates for Madrid are **40.4893538** (Latitud) and **-3.6827461** (Longitud)\n",
    "\n",
    "\n",
    "Additional information, if needed, could be taken from other:\n",
    "* The city council 'data bank': https://datos.madrid.es/\n",
    "* or from the National Statistic Institute of Spain (https://www.ine.es/)\n",
    "\n"
   ]
  },
  {
   "cell_type": "markdown",
   "metadata": {},
   "source": [
    "<br><br>\n",
    "## Thank you for reviewing!"
   ]
  }
 ],
 "metadata": {
  "kernelspec": {
   "display_name": "Python",
   "language": "python",
   "name": "conda-env-python-py"
  },
  "language_info": {
   "codemirror_mode": {
    "name": "ipython",
    "version": 3
   },
   "file_extension": ".py",
   "mimetype": "text/x-python",
   "name": "python",
   "nbconvert_exporter": "python",
   "pygments_lexer": "ipython3",
   "version": "3.6.10"
  }
 },
 "nbformat": 4,
 "nbformat_minor": 4
}
